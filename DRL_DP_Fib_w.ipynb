{
  "nbformat": 4,
  "nbformat_minor": 0,
  "metadata": {
    "colab": {
      "name": "DRL_DP_Fib_w.ipynb",
      "provenance": [],
      "authorship_tag": "ABX9TyM64B66alwCfbR9olh+p6a9",
      "include_colab_link": true
    },
    "kernelspec": {
      "name": "python3",
      "display_name": "Python 3"
    }
  },
  "cells": [
    {
      "cell_type": "markdown",
      "metadata": {
        "id": "view-in-github",
        "colab_type": "text"
      },
      "source": [
        "<a href=\"https://colab.research.google.com/github/cxbxmxcx/CalgaryDeepLearning/blob/master/DRL_DP_Fib_w.ipynb\" target=\"_parent\"><img src=\"https://colab.research.google.com/assets/colab-badge.svg\" alt=\"Open In Colab\"/></a>"
      ]
    },
    {
      "cell_type": "markdown",
      "metadata": {
        "id": "dtfHP6Ewz2rt",
        "colab_type": "text"
      },
      "source": [
        "Solving Fibonacci function with Dynamic Programming"
      ]
    },
    {
      "cell_type": "code",
      "metadata": {
        "id": "PCJz9hIoz0bG",
        "colab_type": "code",
        "outputId": "577c88de-3ef7-4d8f-834b-ed54db58723e",
        "colab": {
          "base_uri": "https://localhost:8080/",
          "height": 150
        }
      },
      "source": [
        "fibSequence = [0,1]\n",
        "\n",
        "def Fibonacci(n):     \n",
        "    if n<0: \n",
        "        print(\"Outside bounds\")\n",
        "    elif n<= len(fibSequence): \n",
        "        return fibSequence[n-1] \n",
        "    else:   \n",
        "        print(\"Solving for {}\".format(n))\n",
        "        fibN = Fibonacci(n-1) + Fibonacci(n-2)\n",
        "        fibSequence.append(fibN)\n",
        "        return fibN \n",
        "  \n",
        "print(Fibonacci(9)) "
      ],
      "execution_count": 0,
      "outputs": [
        {
          "output_type": "stream",
          "text": [
            "Solving for 9\n",
            "Solving for 8\n",
            "Solving for 7\n",
            "Solving for 6\n",
            "Solving for 5\n",
            "Solving for 4\n",
            "Solving for 3\n",
            "21\n"
          ],
          "name": "stdout"
        }
      ]
    }
  ]
}