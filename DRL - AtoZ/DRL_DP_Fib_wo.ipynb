{
  "nbformat": 4,
  "nbformat_minor": 0,
  "metadata": {
    "colab": {
      "name": "DRL_DP_Fib_wo.ipynb",
      "provenance": [],
      "authorship_tag": "ABX9TyPV0elpW1AQ9xFNUfzN3x6+",
      "include_colab_link": true
    },
    "kernelspec": {
      "name": "python3",
      "display_name": "Python 3"
    }
  },
  "cells": [
    {
      "cell_type": "markdown",
      "metadata": {
        "id": "view-in-github",
        "colab_type": "text"
      },
      "source": [
        "<a href=\"https://colab.research.google.com/github/cxbxmxcx/CalgaryDeepLearning/blob/master/DRL_DP_Fib_wo.ipynb\" target=\"_parent\"><img src=\"https://colab.research.google.com/assets/colab-badge.svg\" alt=\"Open In Colab\"/></a>"
      ]
    },
    {
      "cell_type": "markdown",
      "metadata": {
        "id": "_-RGMUlizW2i",
        "colab_type": "text"
      },
      "source": [
        "Example of solving Fibonacci without Dynamic Programming"
      ]
    },
    {
      "cell_type": "code",
      "metadata": {
        "id": "Q-8InACGzU1V",
        "colab_type": "code",
        "outputId": "866a3776-5b39-4ec2-9106-3083c0564c16",
        "colab": {
          "base_uri": "https://localhost:8080/",
          "height": 585
        }
      },
      "source": [
        "def Fibonacci(n):     \n",
        "    if n<0: \n",
        "        print(\"Outside bounds\")\n",
        "    elif n==1: \n",
        "        return 0 # n==1, returns 0     \n",
        "    elif n==2: \n",
        "        return 1 # n==2, returns 1\n",
        "    else:   \n",
        "        print(\"Solving for {}\".format(n))\n",
        "        return Fibonacci(n-1)+Fibonacci(n-2) \n",
        "  \n",
        "print(Fibonacci(9)) "
      ],
      "execution_count": 0,
      "outputs": [
        {
          "output_type": "stream",
          "text": [
            "Solving for 9\n",
            "Solving for 8\n",
            "Solving for 7\n",
            "Solving for 6\n",
            "Solving for 5\n",
            "Solving for 4\n",
            "Solving for 3\n",
            "Solving for 3\n",
            "Solving for 4\n",
            "Solving for 3\n",
            "Solving for 5\n",
            "Solving for 4\n",
            "Solving for 3\n",
            "Solving for 3\n",
            "Solving for 6\n",
            "Solving for 5\n",
            "Solving for 4\n",
            "Solving for 3\n",
            "Solving for 3\n",
            "Solving for 4\n",
            "Solving for 3\n",
            "Solving for 7\n",
            "Solving for 6\n",
            "Solving for 5\n",
            "Solving for 4\n",
            "Solving for 3\n",
            "Solving for 3\n",
            "Solving for 4\n",
            "Solving for 3\n",
            "Solving for 5\n",
            "Solving for 4\n",
            "Solving for 3\n",
            "Solving for 3\n",
            "21\n"
          ],
          "name": "stdout"
        }
      ]
    }
  ]
}