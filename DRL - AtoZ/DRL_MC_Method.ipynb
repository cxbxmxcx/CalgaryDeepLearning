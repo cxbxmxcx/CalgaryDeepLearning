{
  "nbformat": 4,
  "nbformat_minor": 0,
  "metadata": {
    "colab": {
      "name": "DRL_MC_Method.ipynb",
      "provenance": [],
      "authorship_tag": "ABX9TyNI7+QUT9P5ysIWYxc39Qy9",
      "include_colab_link": true
    },
    "kernelspec": {
      "name": "python3",
      "display_name": "Python 3"
    }
  },
  "cells": [
    {
      "cell_type": "markdown",
      "metadata": {
        "id": "view-in-github",
        "colab_type": "text"
      },
      "source": [
        "<a href=\"https://colab.research.google.com/github/cxbxmxcx/CalgaryDeepLearning/blob/master/DRL_MC_Method.ipynb\" target=\"_parent\"><img src=\"https://colab.research.google.com/assets/colab-badge.svg\" alt=\"Open In Colab\"/></a>"
      ]
    },
    {
      "cell_type": "markdown",
      "metadata": {
        "id": "7DCUqy3w28B3",
        "colab_type": "text"
      },
      "source": [
        "The Monte Carlo Method"
      ]
    },
    {
      "cell_type": "code",
      "metadata": {
        "id": "Z-F7dXvP21fF",
        "colab_type": "code",
        "outputId": "a8fbdd21-c02c-441f-b560-b3f10a9144ea",
        "colab": {
          "base_uri": "https://localhost:8080/",
          "height": 281
        }
      },
      "source": [
        "import matplotlib.pyplot as plt\n",
        "from random import random\n",
        "\n",
        "ins = 0\n",
        "n = 1000\n",
        "\n",
        "x_ins = []\n",
        "y_ins = []\n",
        "x_outs = []\n",
        "y_outs = []\n",
        "\n",
        "for _ in range(n):\n",
        "    x = (random()-.5) * 2\n",
        "    y = (random()-.5) * 2 \n",
        "    if (x**2+y**2) <= 1:\n",
        "        ins += 1\n",
        "        x_ins.append(x)\n",
        "        y_ins.append(y)\n",
        "    else:\n",
        "        x_outs.append(x)\n",
        "        y_outs.append(y)\n",
        "\n",
        "pi = 4 * ins/n\n",
        "print(pi)\n",
        "\n",
        "fig, ax = plt.subplots()\n",
        "ax.set_aspect('equal')\n",
        "ax.scatter(x_ins, y_ins, color='g', marker='s')\n",
        "ax.scatter(x_outs, y_outs, color='r', marker='s')\n",
        "plt.show()\n"
      ],
      "execution_count": 0,
      "outputs": [
        {
          "output_type": "stream",
          "text": [
            "3.144\n"
          ],
          "name": "stdout"
        },
        {
          "output_type": "display_data",
          "data": {
            "image/png": "[encoded data removed]",
            "text/plain": [
              "<Figure size 432x288 with 1 Axes>"
            ]
          },
          "metadata": {
            "tags": []
          }
        }
      ]
    }
  ]
}