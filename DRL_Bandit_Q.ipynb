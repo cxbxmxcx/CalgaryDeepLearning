{
  "nbformat": 4,
  "nbformat_minor": 0,
  "metadata": {
    "colab": {
      "name": "DRL_Bandit_Q.ipynb",
      "provenance": [],
      "authorship_tag": "ABX9TyP/dVyQXr15YP+iy441Sfj4",
      "include_colab_link": true
    },
    "kernelspec": {
      "name": "python3",
      "display_name": "Python 3"
    }
  },
  "cells": [
    {
      "cell_type": "markdown",
      "metadata": {
        "id": "view-in-github",
        "colab_type": "text"
      },
      "source": [
        "<a href=\"https://colab.research.google.com/github/cxbxmxcx/CalgaryDeepLearning/blob/master/DRL_Bandit_Q.ipynb\" target=\"_parent\"><img src=\"https://colab.research.google.com/assets/colab-badge.svg\" alt=\"Open In Colab\"/></a>"
      ]
    },
    {
      "cell_type": "markdown",
      "metadata": {
        "id": "u8usQhDKu8kg",
        "colab_type": "text"
      },
      "source": [
        "Setup\n"
      ]
    },
    {
      "cell_type": "code",
      "metadata": {
        "id": "HV9g1xGZuzSy",
        "colab_type": "code",
        "outputId": "f8b24dbb-45d3-4593-a559-a21a4c67b624",
        "colab": {
          "base_uri": "https://localhost:8080/",
          "height": 53
        }
      },
      "source": [
        "import random\n",
        "\n",
        "arms = 7\n",
        "bandits = 7\n",
        "learning_rate = .1\n",
        "gamma = .9\n",
        "episodes = 10000\n",
        "reward = []\n",
        "for i in range(bandits):  \n",
        "    reward.append([])       \n",
        "    for j in range(arms): \n",
        "        reward[i].append(random.uniform(-1,1))\n",
        "print(reward)"
      ],
      "execution_count": 0,
      "outputs": [
        {
          "output_type": "stream",
          "text": [
            "[[0.9232345641658362, -0.5371498735479754, 0.7355112694275652, -0.13107557275713, 0.20798334242486938, 0.4017017459089882, -0.3834474205194749], [0.866295010923875, 0.23084096745255955, -0.5326722462796525, 0.4075882680853331, 0.7365365412426972, 0.4590112327006042, 0.7816596064053187], [0.42717210929612404, -0.41321604630733333, 0.19624387168117763, -0.793591274664222, -0.1340351116922629, 0.0004481755062295534, -0.800064614783933], [-0.1742324110577551, 0.257911205654505, -0.5981741313784847, 0.8902408242017892, -0.37683854606378886, -0.04236627460153386, -0.6177560794871211], [0.8106481943351815, 0.5852932400980699, -0.5327270286253671, 0.6892814074647702, 0.047477149025757726, 0.5737943882290657, -0.5579030817738282], [-0.32743007088116394, 0.16648018381537155, -0.583799454782447, 0.2799438739139508, -0.4602687215063428, 0.3322782642789568, -0.018530674191883367], [-0.046615153603678516, 0.9881612645555946, 0.30337135058829445, -0.6661490215945367, 0.7865226408897201, 0.6936520886430884, 0.983891743046716]]\n"
          ],
          "name": "stdout"
        }
      ]
    },
    {
      "cell_type": "markdown",
      "metadata": {
        "id": "k4J6I2ETvPyN",
        "colab_type": "text"
      },
      "source": [
        "Initialize Q table"
      ]
    },
    {
      "cell_type": "code",
      "metadata": {
        "id": "qRNCNh6xvUWJ",
        "colab_type": "code",
        "outputId": "525bf22f-961a-44bc-eedd-dec4a9d4df62",
        "colab": {
          "base_uri": "https://localhost:8080/",
          "height": 53
        }
      },
      "source": [
        "Q = []\n",
        "for i in range(bandits):  \n",
        "    Q.append([])       \n",
        "    for j in range(arms): \n",
        "        Q[i].append(10.0)\n",
        "print(Q)\n",
        "\n",
        "def greedy(values):\n",
        "    return values.index(max(values))"
      ],
      "execution_count": 0,
      "outputs": [
        {
          "output_type": "stream",
          "text": [
            "[[10.0, 10.0, 10.0, 10.0, 10.0, 10.0, 10.0], [10.0, 10.0, 10.0, 10.0, 10.0, 10.0, 10.0], [10.0, 10.0, 10.0, 10.0, 10.0, 10.0, 10.0], [10.0, 10.0, 10.0, 10.0, 10.0, 10.0, 10.0], [10.0, 10.0, 10.0, 10.0, 10.0, 10.0, 10.0], [10.0, 10.0, 10.0, 10.0, 10.0, 10.0, 10.0], [10.0, 10.0, 10.0, 10.0, 10.0, 10.0, 10.0]]\n"
          ],
          "name": "stdout"
        }
      ]
    },
    {
      "cell_type": "markdown",
      "metadata": {
        "id": "WEtwCUb5vZAP",
        "colab_type": "text"
      },
      "source": [
        "Learn Function"
      ]
    },
    {
      "cell_type": "code",
      "metadata": {
        "id": "Ajg8Y0I7va_L",
        "colab_type": "code",
        "colab": {}
      },
      "source": [
        "def learn(state, action, reward, next_state):\n",
        "    q = gamma * max(Q[next_state])    \n",
        "    q += reward\n",
        "    q -= Q[state][action]\n",
        "    q *= learning_rate\n",
        "    q += Q[state][action]\n",
        "    Q[state][action] = q"
      ],
      "execution_count": 0,
      "outputs": []
    },
    {
      "cell_type": "markdown",
      "metadata": {
        "id": "qgxOSgnUviXI",
        "colab_type": "text"
      },
      "source": [
        "Training"
      ]
    },
    {
      "cell_type": "code",
      "metadata": {
        "id": "ppgGQ929vkEq",
        "colab_type": "code",
        "outputId": "70e0c78f-3b6f-4ba7-9891-4d1b795c8c7b",
        "colab": {
          "base_uri": "https://localhost:8080/",
          "height": 53
        }
      },
      "source": [
        "# agent learns\n",
        "bandit = random.randint(0,bandits-1)\n",
        "for i in range(0, episodes):\n",
        "    last_bandit = bandit\n",
        "    bandit = random.randint(0,bandits-1)\n",
        "    action = greedy(Q[bandit]) \n",
        "    r = reward[last_bandit][action]\n",
        "    learn(last_bandit, action, r, bandit)\n",
        "\n",
        "print(Q)"
      ],
      "execution_count": 0,
      "outputs": [
        {
          "output_type": "stream",
          "text": [
            "[[7.581278871975892, 6.096066565785488, 7.309120983673714, 6.264873215863186, 6.891337819639285, 6.9815373455999215, 6.429522192475133], [7.467500269352407, 6.651950653532303, 6.210861441551159, 6.854068761714061, 7.464265306512612, 6.954197287266058, 7.589480269076967], [7.069398788258899, 6.155249990318073, 6.84120465030663, 5.632933810466732, 6.799403111871607, 6.619318992247355, 6.0771616009361065], [6.468479557663757, 6.837460043166626, 6.0007539683249895, 7.308765218101306, 6.590267421125061, 6.462564163459765, 6.0984825216424525], [7.483584172506601, 7.1612809527756776, 6.130448632646374, 7.1899008618833475, 7.134782003485001, 7.046524366500662, 6.116264802948448], [6.273493236070163, 6.737389984086118, 6.029536459678844, 6.819959471381685, 6.296859309675665, 6.781793497803797, 6.807900279365089], [6.6141273167778145, 7.421199062911082, 7.054984231967001, 5.864499710239311, 7.648391592718523, 7.198671741904553, 7.889964966765502]]\n"
          ],
          "name": "stdout"
        }
      ]
    }
  ]
}