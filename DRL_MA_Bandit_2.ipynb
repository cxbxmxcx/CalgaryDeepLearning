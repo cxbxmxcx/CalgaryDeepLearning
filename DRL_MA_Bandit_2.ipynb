{
  "nbformat": 4,
  "nbformat_minor": 0,
  "metadata": {
    "colab": {
      "name": "DRL_MA_Bandit_2.ipynb",
      "provenance": [],
      "authorship_tag": "ABX9TyNfh0UpOX9NsD9HLo3jMoML",
      "include_colab_link": true
    },
    "kernelspec": {
      "name": "python3",
      "display_name": "Python 3"
    }
  },
  "cells": [
    {
      "cell_type": "markdown",
      "metadata": {
        "id": "view-in-github",
        "colab_type": "text"
      },
      "source": [
        "<a href=\"https://colab.research.google.com/github/cxbxmxcx/CalgaryDeepLearning/blob/master/DRL_MA_Bandit_2.ipynb\" target=\"_parent\"><img src=\"https://colab.research.google.com/assets/colab-badge.svg\" alt=\"Open In Colab\"/></a>"
      ]
    },
    {
      "cell_type": "markdown",
      "metadata": {
        "id": "8Qx7fi9Yqjc3",
        "colab_type": "text"
      },
      "source": [
        "Setup\n"
      ]
    },
    {
      "cell_type": "code",
      "metadata": {
        "id": "_T1dmbGGqNby",
        "colab_type": "code",
        "outputId": "e5eca500-7400-488c-de39-cc77fccfd577",
        "colab": {
          "base_uri": "https://localhost:8080/",
          "height": 35
        }
      },
      "source": [
        "import random\n",
        "\n",
        "reward = [1.0, 0.5, 0.2, 0.5, 0.6, 0.1, -.5]\n",
        "arms = len(reward)\n",
        "learning_rate = .1\n",
        "episodes = 10000\n",
        "Value = [5.0] * arms\n",
        "print(Value)\n",
        "\n",
        "def greedy(values):\n",
        "    return values.index(max(values))"
      ],
      "execution_count": 0,
      "outputs": [
        {
          "output_type": "stream",
          "text": [
            "[5.0, 5.0, 5.0, 5.0, 5.0, 5.0, 5.0]\n"
          ],
          "name": "stdout"
        }
      ]
    },
    {
      "cell_type": "markdown",
      "metadata": {
        "id": "CEf2UzDzqvM3",
        "colab_type": "text"
      },
      "source": [
        "Training"
      ]
    },
    {
      "cell_type": "code",
      "metadata": {
        "id": "fWi-SCx3quzh",
        "colab_type": "code",
        "outputId": "b16aaeca-bd99-4457-a1ab-833aba819bb2",
        "colab": {
          "base_uri": "https://localhost:8080/",
          "height": 55
        }
      },
      "source": [
        "# agent learns\n",
        "for i in range(0, episodes):\n",
        "    action = greedy(Value)\n",
        "    Value[action] = Value[action] + learning_rate * (\n",
        "        reward[action] - Value[action])\n",
        "\n",
        "print(Value)"
      ],
      "execution_count": 0,
      "outputs": [
        {
          "output_type": "stream",
          "text": [
            "[1.0000000000000009, 0.9923854510918054, 0.9204542494255955, 0.9923854510918054, 0.9899692772647101, 0.9171819032836618, 0.8980262055809499]\n"
          ],
          "name": "stdout"
        }
      ]
    }
  ]
}