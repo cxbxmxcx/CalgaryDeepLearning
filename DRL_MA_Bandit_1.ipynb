{
  "nbformat": 4,
  "nbformat_minor": 0,
  "metadata": {
    "colab": {
      "name": "DRL_MA_Bandit_1.ipynb",
      "provenance": [],
      "authorship_tag": "ABX9TyNsKutS09LnIHNMCTaCCc1X",
      "include_colab_link": true
    },
    "kernelspec": {
      "name": "python3",
      "display_name": "Python 3"
    }
  },
  "cells": [
    {
      "cell_type": "markdown",
      "metadata": {
        "id": "view-in-github",
        "colab_type": "text"
      },
      "source": [
        "<a href=\"https://colab.research.google.com/github/cxbxmxcx/CalgaryDeepLearning/blob/master/DRL_MA_Bandit_1.ipynb\" target=\"_parent\"><img src=\"https://colab.research.google.com/assets/colab-badge.svg\" alt=\"Open In Colab\"/></a>"
      ]
    },
    {
      "cell_type": "markdown",
      "metadata": {
        "id": "4nx__nqgVAqE",
        "colab_type": "text"
      },
      "source": [
        "Setup"
      ]
    },
    {
      "cell_type": "code",
      "metadata": {
        "id": "ckH79roQU4J8",
        "colab_type": "code",
        "outputId": "24735f06-ee6e-4e66-fb4e-cca1cde28b12",
        "colab": {
          "base_uri": "https://localhost:8080/",
          "height": 35
        }
      },
      "source": [
        "import random\n",
        "\n",
        "reward = [1.0, 0.5, 0.2, 0.5, 0.6, 0.1, -.5]\n",
        "arms = len(reward)\n",
        "learning_rate = .1\n",
        "episodes = 100\n",
        "Value = [0.0] * arms\n",
        "print(Value)"
      ],
      "execution_count": 0,
      "outputs": [
        {
          "output_type": "stream",
          "text": [
            "[0.0, 0.0, 0.0, 0.0, 0.0, 0.0, 0.0]\n"
          ],
          "name": "stdout"
        }
      ]
    },
    {
      "cell_type": "markdown",
      "metadata": {
        "id": "0hE_9fD-VE4Q",
        "colab_type": "text"
      },
      "source": [
        "Training"
      ]
    },
    {
      "cell_type": "code",
      "metadata": {
        "id": "njJGebZBVEXB",
        "colab_type": "code",
        "colab": {}
      },
      "source": [
        "for i in range(0, episodes):\n",
        "    action = random.randint(0,arms-1)\n",
        "    Value[action] = Value[action] + learning_rate * (\n",
        "        reward[action] - Value[action])\n",
        "\n",
        "print(Value)"
      ],
      "execution_count": 0,
      "outputs": []
    }
  ]
}